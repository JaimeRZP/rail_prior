{
 "cells": [
  {
   "cell_type": "markdown",
   "metadata": {},
   "source": [
    "# RAIL Prior"
   ]
  },
  {
   "cell_type": "code",
   "execution_count": 1,
   "metadata": {},
   "outputs": [],
   "source": [
    "import numpy as np\n",
    "from numpy.linalg import cholesky\n",
    "import matplotlib.pyplot as plt\n",
    "from scipy.interpolate import interp1d\n",
    "import scipy.stats as stats\n",
    "import sys\n",
    "import qp\n",
    "\n",
    "sys.path.insert(1, '/home/jaimerz/Documents/UCL/rail_prior/src')\n"
   ]
  },
  {
   "cell_type": "markdown",
   "metadata": {},
   "source": [
    "## Load Data"
   ]
  },
  {
   "cell_type": "code",
   "execution_count": 4,
   "metadata": {},
   "outputs": [],
   "source": [
    "dummy = np.load('tests/rail_prior/dummy.npz')\n",
    "zs = dummy['zs']\n",
    "pzs = dummy['pzs']\n",
    "dz = np.mean(np.diff(zs))\n",
    "zs_edges = np.append(zs - dz/2, zs[-1] + dz/2)\n",
    "q = qp.Ensemble(qp.hist, data={\"bins\":zs_edges, \"pdfs\":pzs})"
   ]
  },
  {
   "cell_type": "code",
   "execution_count": null,
   "metadata": {},
   "outputs": [],
   "source": [
    "base = rail_prior.PriorBase(q)"
   ]
  },
  {
   "cell_type": "code",
   "execution_count": null,
   "metadata": {},
   "outputs": [],
   "source": [
    "figure, axis = plt.subplots(2, 1, figsize=(5,10))\n",
    "figure.subplots_adjust(wspace=0, hspace=0.01)\n",
    "for i in range(100):\n",
    "    axis[0].plot(base.z, base.nzs[i], 'k-', alpha=0.05)\n",
    "axis[0].set_ylabel(r'$p(z)$')\n",
    "im = axis[1].imshow(abs(base.nz_cov), aspect='auto',\n",
    "                    origin='lower', cmap='gray',\n",
    "                    extent=[min(zs), max(zs), max(zs), min(zs)])\n",
    "axis[1].set_xlabel(r'$z$')\n",
    "cbar_ax = figure.add_axes([0.905, 0.11, 0.02, 0.38])\n",
    "figure.colorbar(im, cax=cbar_ax)\n",
    "plt.show()"
   ]
  },
  {
   "cell_type": "markdown",
   "metadata": {},
   "source": [
    "# Shifts"
   ]
  },
  {
   "cell_type": "code",
   "execution_count": null,
   "metadata": {},
   "outputs": [],
   "source": [
    "shifts = qp.projectors.ProjectorShifts(q)"
   ]
  },
  {
   "cell_type": "code",
   "execution_count": null,
   "metadata": {},
   "outputs": [],
   "source": [
    "pz_fid = [shifts.z, shifts.nz_mean]"
   ]
  },
  {
   "cell_type": "code",
   "execution_count": null,
   "metadata": {},
   "outputs": [],
   "source": [
    "shifted_pzs = np.array([shifts.evaluate_model(pz_fid, shifts.sample_prior())[1] for i in range(100)])"
   ]
  },
  {
   "cell_type": "code",
   "execution_count": null,
   "metadata": {},
   "outputs": [],
   "source": [
    "shifted_cov = np.cov(shifted_pzs.T)"
   ]
  },
  {
   "cell_type": "code",
   "execution_count": null,
   "metadata": {},
   "outputs": [],
   "source": [
    "figure, axis = plt.subplots(2, 1, figsize=(5,10))\n",
    "figure.subplots_adjust(wspace=0, hspace=0.01)\n",
    "for i in range(100):\n",
    "    pz = shifted_pzs[i]\n",
    "    axis[0].plot(shifts.z, pz, 'k-', alpha=0.05)\n",
    "axis[0].errorbar(shifts.z, shifts.nz_mean, yerr=np.sqrt(np.diag(shifted_cov)), fmt='k-')\n",
    "axis[0].set_ylabel(r'$p(z)$')\n",
    "im = axis[1].imshow(abs(shifted_cov), aspect='auto',\n",
    "                    origin='lower', cmap='gray',\n",
    "                    extent=[min(zs), max(zs), max(zs), min(zs)])\n",
    "axis[1].set_xlabel(r'$z$')\n",
    "cbar_ax = figure.add_axes([0.905, 0.11, 0.02, 0.38])\n",
    "figure.colorbar(im, cax=cbar_ax)\n",
    "#plt.savefig('docs/source/assets/shifts.png')\n",
    "plt.show()"
   ]
  },
  {
   "cell_type": "markdown",
   "metadata": {},
   "source": [
    "# Shifts & Widths"
   ]
  },
  {
   "cell_type": "code",
   "execution_count": null,
   "metadata": {},
   "outputs": [],
   "source": [
    "SnW = qp.projectors.ProjectorShiftsWidths(q)"
   ]
  },
  {
   "cell_type": "code",
   "execution_count": null,
   "metadata": {},
   "outputs": [],
   "source": [
    "SnW_pzs = []\n",
    "for i in range(100):\n",
    "    shift, width = SnW.sample_prior()\n",
    "    pz = SnW.evaluate_model(pz_fid, shift, width)[1]\n",
    "    SnW_pzs.append(pz)\n",
    "SnW_pzs = np.array(SnW_pzs)"
   ]
  },
  {
   "cell_type": "code",
   "execution_count": null,
   "metadata": {},
   "outputs": [],
   "source": [
    "SnW_cov = np.cov(SnW_pzs.T)"
   ]
  },
  {
   "cell_type": "code",
   "execution_count": null,
   "metadata": {},
   "outputs": [],
   "source": [
    "figure, axis = plt.subplots(2, 1, figsize=(5,10))\n",
    "figure.subplots_adjust(wspace=0, hspace=0.01)\n",
    "for i in range(100):\n",
    "    axis[0].plot(SnW.z, SnW_pzs[i], 'k-', alpha=0.05)\n",
    "axis[0].errorbar(SnW.z, SnW.nz_mean, yerr=np.sqrt(np.diag(SnW_cov)), fmt='k-')\n",
    "axis[0].set_ylabel(r'$p(z)$')\n",
    "im = axis[1].imshow(abs(SnW_cov), aspect='auto',\n",
    "                    origin='lower', cmap='gray',\n",
    "                    extent=[min(zs), max(zs), max(zs), min(zs)])\n",
    "axis[1].set_xlabel(r'$z$')\n",
    "cbar_ax = figure.add_axes([0.905, 0.11, 0.02, 0.38])\n",
    "figure.colorbar(im, cax=cbar_ax)\n",
    "#plt.savefig('docs/source/assets/moments.png')\n",
    "plt.show()"
   ]
  },
  {
   "cell_type": "markdown",
   "metadata": {},
   "source": [
    "# Moments"
   ]
  },
  {
   "cell_type": "code",
   "execution_count": null,
   "metadata": {},
   "outputs": [],
   "source": [
    "moments = qp.projectors.ProjectorMoments(q)"
   ]
  },
  {
   "cell_type": "code",
   "execution_count": null,
   "metadata": {},
   "outputs": [],
   "source": [
    "moments_pzs = np.array([moments.evaluate_model(pz_fid, moments.sample_prior())[1] for i in range(100)])"
   ]
  },
  {
   "cell_type": "code",
   "execution_count": null,
   "metadata": {},
   "outputs": [],
   "source": [
    "moments_cov = np.cov(moments_pzs.T)"
   ]
  },
  {
   "cell_type": "code",
   "execution_count": null,
   "metadata": {},
   "outputs": [],
   "source": [
    "figure, axis = plt.subplots(2, 1, figsize=(5,10))\n",
    "figure.subplots_adjust(wspace=0, hspace=0.01)\n",
    "for i in range(100):\n",
    "    axis[0].plot(moments.z, moments_pzs[i], 'k-', alpha=0.05)\n",
    "axis[0].errorbar(moments.z, moments.nz_mean, yerr=np.sqrt(np.diag(moments_cov)), fmt='k-')\n",
    "axis[0].set_ylabel(r'$p(z)$')\n",
    "im = axis[1].imshow(abs(moments_cov), aspect='auto',\n",
    "                    origin='lower', cmap='gray',\n",
    "                    extent=[min(zs), max(zs), max(zs), min(zs)])\n",
    "axis[1].set_xlabel(r'$z$')\n",
    "cbar_ax = figure.add_axes([0.905, 0.11, 0.02, 0.38])\n",
    "figure.colorbar(im, cax=cbar_ax)\n",
    "#plt.savefig('docs/source/assets/moments.png')\n",
    "plt.show()"
   ]
  },
  {
   "cell_type": "code",
   "execution_count": null,
   "metadata": {},
   "outputs": [],
   "source": []
  }
 ],
 "metadata": {
  "kernelspec": {
   "display_name": "tutorials",
   "language": "python",
   "name": "python3"
  },
  "language_info": {
   "codemirror_mode": {
    "name": "ipython",
    "version": 3
   },
   "file_extension": ".py",
   "mimetype": "text/x-python",
   "name": "python",
   "nbconvert_exporter": "python",
   "pygments_lexer": "ipython3",
   "version": "3.12.3"
  }
 },
 "nbformat": 4,
 "nbformat_minor": 2
}
